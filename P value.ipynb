{
 "cells": [
  {
   "cell_type": "code",
   "execution_count": 1,
   "id": "b6385846",
   "metadata": {},
   "outputs": [],
   "source": [
    "#Are the house price in Old Town is really diff. from the House price if other neighbors"
   ]
  },
  {
   "cell_type": "code",
   "execution_count": 5,
   "id": "2e3d6166",
   "metadata": {},
   "outputs": [],
   "source": [
    "from statsmodels.stats.weightstats import ztest"
   ]
  },
  {
   "cell_type": "code",
   "execution_count": 7,
   "id": "fd9d3994",
   "metadata": {},
   "outputs": [],
   "source": [
    "import pandas as pd"
   ]
  },
  {
   "cell_type": "code",
   "execution_count": 8,
   "id": "32aa3a44",
   "metadata": {},
   "outputs": [],
   "source": [
    "df = pd.read_csv('train.csv')"
   ]
  },
  {
   "cell_type": "code",
   "execution_count": 10,
   "id": "366e990c",
   "metadata": {},
   "outputs": [
    {
     "name": "stdout",
     "output_type": "stream",
     "text": [
      "-10.639294263334575\n",
      "1.9560526026260018e-26\n"
     ]
    }
   ],
   "source": [
    "z_statistic, p_value = ztest(x1 = df[df['Neighborhood']=='OldTown']['SalePrice'],\n",
    "                            value = df['SalePrice'].mean())\n",
    "\n",
    "print(z_statistic)\n",
    "print(p_value)"
   ]
  },
  {
   "cell_type": "code",
   "execution_count": null,
   "id": "8d780fb5",
   "metadata": {},
   "outputs": [],
   "source": []
  }
 ],
 "metadata": {
  "kernelspec": {
   "display_name": "co2",
   "language": "python",
   "name": "co2"
  },
  "language_info": {
   "codemirror_mode": {
    "name": "ipython",
    "version": 3
   },
   "file_extension": ".py",
   "mimetype": "text/x-python",
   "name": "python",
   "nbconvert_exporter": "python",
   "pygments_lexer": "ipython3",
   "version": "3.10.8"
  }
 },
 "nbformat": 4,
 "nbformat_minor": 5
}
