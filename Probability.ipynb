{
 "cells": [
  {
   "cell_type": "code",
   "execution_count": null,
   "id": "f29d9bfc",
   "metadata": {},
   "outputs": [],
   "source": [
    "#Find the probability of that their sum will be at most 9, if in a single toss of 2 fair dice evenly weighted"
   ]
  },
  {
   "cell_type": "code",
   "execution_count": 1,
   "id": "44993743",
   "metadata": {},
   "outputs": [],
   "source": [
    "import math\n",
    "from fractions import Fraction"
   ]
  },
  {
   "cell_type": "code",
   "execution_count": 3,
   "id": "b724ab8e",
   "metadata": {},
   "outputs": [
    {
     "name": "stdout",
     "output_type": "stream",
     "text": [
      "5/6\n"
     ]
    }
   ],
   "source": [
    "dice_max = 6\n",
    "dice_min = 1\n",
    "\n",
    "dice_range = range(dice_min, dice_max+1)\n",
    "counter = 0\n",
    "\n",
    "for di in dice_range:\n",
    "    for dj in dice_range:\n",
    "        if (di+dj) <= 9:\n",
    "            counter += 1\n",
    "        else:\n",
    "            pass\n",
    "probabilities = dice_max**2\n",
    "print(Fraction(counter, probabilities))"
   ]
  },
  {
   "cell_type": "code",
   "execution_count": 4,
   "id": "30a6da6f",
   "metadata": {},
   "outputs": [],
   "source": [
    "#both dice shouldnt be same\n",
    "#the sum will be 8"
   ]
  },
  {
   "cell_type": "code",
   "execution_count": 5,
   "id": "05ee8a22",
   "metadata": {},
   "outputs": [
    {
     "name": "stdout",
     "output_type": "stream",
     "text": [
      "1/9\n"
     ]
    }
   ],
   "source": [
    "dice_max = 6\n",
    "dice_min = 1\n",
    "\n",
    "dice_range = range(dice_min, dice_max+1)\n",
    "counter = 0\n",
    "\n",
    "for di in dice_range:\n",
    "    for dj in dice_range:\n",
    "        if (di != dj) and (di+dj==8):\n",
    "            counter += 1\n",
    "        else:\n",
    "            pass\n",
    "probabilities = dice_max**2\n",
    "print(Fraction(counter, probabilities))"
   ]
  },
  {
   "cell_type": "code",
   "execution_count": 6,
   "id": "3852aed8",
   "metadata": {},
   "outputs": [],
   "source": [
    "#bag = x, y z\n",
    "#x bag contains 4 red balls and 3 black balls\n",
    "#y bag contains 5 red balls and 4 black balls\n",
    "#z bag contains 4 red balls and 4 black balls\n",
    "#k bag contains 1 red balls and 4 black balls\n",
    "\n",
    "# one ball is drawn from each of bag, what will be probability that out f 4 drawn 3 are red and 1 is black"
   ]
  },
  {
   "cell_type": "code",
   "execution_count": 8,
   "id": "5a0f7b4f",
   "metadata": {},
   "outputs": [],
   "source": [
    "x_red = 4\n",
    "x_black = 3\n",
    "x_total = x_red + x_black\n",
    "\n",
    "y_red = 5\n",
    "y_black = 4\n",
    "y_total = y_red + y_black\n",
    "\n",
    "z_red = 4\n",
    "z_black = 4\n",
    "z_total = z_red + z_black\n",
    "\n",
    "k_red = 1\n",
    "k_black = 4\n",
    "k_total = k_red + k_black\n",
    "\n",
    "x_red_f = Fraction(x_red, x_total)\n",
    "x_black_f = Fraction(x_black, x_total)\n",
    "\n",
    "y_red_f = Fraction(y_red, y_total)\n",
    "y_black_f = Fraction(y_black, y_total)\n",
    "\n",
    "z_red_f = Fraction(z_red, z_total)\n",
    "z_black_f = Fraction(z_black, z_total)\n",
    "\n",
    "k_red_f = Fraction(k_red, k_total)\n",
    "k_black_f = Fraction(k_black, k_total)"
   ]
  },
  {
   "cell_type": "code",
   "execution_count": 9,
   "id": "c8f774a7",
   "metadata": {},
   "outputs": [],
   "source": [
    "pribability = x_red_f * y_red_f * z_red_f * k_black_f + x_black_f * y_red_f * z_red_f * k_red_f + x_red_f * y_black_f * z_red_f * k_red_f + x_red_f * y_red_f * z_black_f * k_red_f"
   ]
  },
  {
   "cell_type": "code",
   "execution_count": 10,
   "id": "a6b0c956",
   "metadata": {},
   "outputs": [
    {
     "name": "stdout",
     "output_type": "stream",
     "text": [
      "131/630\n"
     ]
    }
   ],
   "source": [
    "print(pribability)"
   ]
  },
  {
   "cell_type": "code",
   "execution_count": null,
   "id": "718a05f2",
   "metadata": {},
   "outputs": [],
   "source": []
  }
 ],
 "metadata": {
  "kernelspec": {
   "display_name": "co2",
   "language": "python",
   "name": "co2"
  },
  "language_info": {
   "codemirror_mode": {
    "name": "ipython",
    "version": 3
   },
   "file_extension": ".py",
   "mimetype": "text/x-python",
   "name": "python",
   "nbconvert_exporter": "python",
   "pygments_lexer": "ipython3",
   "version": "3.10.8"
  }
 },
 "nbformat": 4,
 "nbformat_minor": 5
}
